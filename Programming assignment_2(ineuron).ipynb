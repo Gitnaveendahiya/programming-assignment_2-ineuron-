{
 "cells": [
  {
   "cell_type": "markdown",
   "id": "18e9e488",
   "metadata": {},
   "source": [
    "# Que1:- Write a Python program to convert kilometers to miles?"
   ]
  },
  {
   "cell_type": "code",
   "execution_count": 2,
   "id": "7f3db6df",
   "metadata": {},
   "outputs": [
    {
     "name": "stdout",
     "output_type": "stream",
     "text": [
      "Enter kilometer 54\n",
      "54 kilometers\n",
      "33.554034 miles\n"
     ]
    }
   ],
   "source": [
    "a=int(input(\"Enter kilometer \"))\n",
    "print(a,\"kilometers\")\n",
    "b=0.621371\n",
    "c=a*b\n",
    "print (c,\"miles\")"
   ]
  },
  {
   "cell_type": "markdown",
   "id": "9f8faae1",
   "metadata": {},
   "source": [
    "# Que 2:- Write a Python program to convert Celsius to Fahrenheit?"
   ]
  },
  {
   "cell_type": "code",
   "execution_count": 3,
   "id": "0cf0e37d",
   "metadata": {},
   "outputs": [
    {
     "name": "stdout",
     "output_type": "stream",
     "text": [
      "Celsius\n",
      "54\n",
      "54.0 ° C\n",
      "129.2 ° F\n"
     ]
    }
   ],
   "source": [
    "x=float(input(\"Celsius\\n\"))\n",
    "degree_sign = u\"\\N{DEGREE SIGN}\"\n",
    "print(x,degree_sign,\"C\")\n",
    "y=float((x*9/5)+32)\n",
    "print (y,degree_sign,\"F\")"
   ]
  },
  {
   "cell_type": "markdown",
   "id": "e03639c7",
   "metadata": {},
   "source": [
    "# Que 3:-Write a Python program to display calendar?"
   ]
  },
  {
   "cell_type": "code",
   "execution_count": 4,
   "id": "520f0d8f",
   "metadata": {},
   "outputs": [
    {
     "name": "stdout",
     "output_type": "stream",
     "text": [
      "Enter year you want to see\n",
      "2022\n",
      "                                  2022\n",
      "\n",
      "      January                   February                   March\n",
      "Mo Tu We Th Fr Sa Su      Mo Tu We Th Fr Sa Su      Mo Tu We Th Fr Sa Su\n",
      "                1  2          1  2  3  4  5  6          1  2  3  4  5  6\n",
      " 3  4  5  6  7  8  9       7  8  9 10 11 12 13       7  8  9 10 11 12 13\n",
      "10 11 12 13 14 15 16      14 15 16 17 18 19 20      14 15 16 17 18 19 20\n",
      "17 18 19 20 21 22 23      21 22 23 24 25 26 27      21 22 23 24 25 26 27\n",
      "24 25 26 27 28 29 30      28                        28 29 30 31\n",
      "31\n",
      "\n",
      "       April                      May                       June\n",
      "Mo Tu We Th Fr Sa Su      Mo Tu We Th Fr Sa Su      Mo Tu We Th Fr Sa Su\n",
      "             1  2  3                         1             1  2  3  4  5\n",
      " 4  5  6  7  8  9 10       2  3  4  5  6  7  8       6  7  8  9 10 11 12\n",
      "11 12 13 14 15 16 17       9 10 11 12 13 14 15      13 14 15 16 17 18 19\n",
      "18 19 20 21 22 23 24      16 17 18 19 20 21 22      20 21 22 23 24 25 26\n",
      "25 26 27 28 29 30         23 24 25 26 27 28 29      27 28 29 30\n",
      "                          30 31\n",
      "\n",
      "        July                     August                  September\n",
      "Mo Tu We Th Fr Sa Su      Mo Tu We Th Fr Sa Su      Mo Tu We Th Fr Sa Su\n",
      "             1  2  3       1  2  3  4  5  6  7                1  2  3  4\n",
      " 4  5  6  7  8  9 10       8  9 10 11 12 13 14       5  6  7  8  9 10 11\n",
      "11 12 13 14 15 16 17      15 16 17 18 19 20 21      12 13 14 15 16 17 18\n",
      "18 19 20 21 22 23 24      22 23 24 25 26 27 28      19 20 21 22 23 24 25\n",
      "25 26 27 28 29 30 31      29 30 31                  26 27 28 29 30\n",
      "\n",
      "      October                   November                  December\n",
      "Mo Tu We Th Fr Sa Su      Mo Tu We Th Fr Sa Su      Mo Tu We Th Fr Sa Su\n",
      "                1  2          1  2  3  4  5  6                1  2  3  4\n",
      " 3  4  5  6  7  8  9       7  8  9 10 11 12 13       5  6  7  8  9 10 11\n",
      "10 11 12 13 14 15 16      14 15 16 17 18 19 20      12 13 14 15 16 17 18\n",
      "17 18 19 20 21 22 23      21 22 23 24 25 26 27      19 20 21 22 23 24 25\n",
      "24 25 26 27 28 29 30      28 29 30                  26 27 28 29 30 31\n",
      "31\n",
      "\n"
     ]
    }
   ],
   "source": [
    "import calendar\n",
    "year=int(input(\"Enter year you want to see\\n\"))\n",
    "print(calendar.calendar(year))"
   ]
  },
  {
   "cell_type": "markdown",
   "id": "22f7915a",
   "metadata": {},
   "source": [
    "# Que 4:-Write a Python program to solve quadratic equation?"
   ]
  },
  {
   "cell_type": "code",
   "execution_count": 5,
   "id": "0db2b457",
   "metadata": {},
   "outputs": [
    {
     "name": "stdout",
     "output_type": "stream",
     "text": [
      "ax**2 + bx + c = 0\n",
      "a!=0\n",
      "enter value of a = 5\n",
      "enter value of b = 5\n",
      "enter value of c = 1\n",
      "(-0.276393202250021+0j) (-0.7236067977499789+0j)\n"
     ]
    }
   ],
   "source": [
    "import cmath\n",
    "try:\n",
    "    \n",
    "    print(\"ax**2 + bx + c = 0\")\n",
    "    a=int(input(\"a!=0\\renter value of a = \"))\n",
    "    b=int(input(\"enter value of b = \"))\n",
    "    c=int(input(\"enter value of c = \"))\n",
    "\n",
    "    d=int((b**2)-4*a*c)\n",
    "\n",
    "    ans1=(-b+cmath.sqrt(d))/(2*a)\n",
    "    ans2=(-b-cmath.sqrt(d))/(2*a)\n",
    "    print(ans1,ans2)\n",
    "except Exception as e:\n",
    "    print(e)"
   ]
  },
  {
   "cell_type": "markdown",
   "id": "2fc88691",
   "metadata": {},
   "source": [
    "# Que 5:- Write a Python program to swap two variables without temp variable?"
   ]
  },
  {
   "cell_type": "code",
   "execution_count": 6,
   "id": "b94bb8e4",
   "metadata": {},
   "outputs": [
    {
     "name": "stdout",
     "output_type": "stream",
     "text": [
      "78\n",
      "88\n",
      "Before swapping: \n",
      "weight of ram :  78 kg  and shyam :  88 kg\n",
      "After swapping: \n",
      "weight of ram :  88 kg  and shyam :  78 kg\n"
     ]
    }
   ],
   "source": [
    "weight_ram=int(input())\n",
    "weight_shyam=int(input())\n",
    "print (\"Before swapping: \")\n",
    "print(\"weight of ram : \", weight_ram,\"kg\", \" and shyam : \", weight_shyam,\"kg\")\n",
    "\n",
    "weight_ram = weight_ram + weight_shyam\n",
    "weight_shyam = weight_ram - weight_shyam \n",
    "weight_ram = weight_ram - weight_shyam \n",
    "\n",
    "print (\"After swapping: \")\n",
    "print(\"weight of ram : \", weight_ram,\"kg\", \" and shyam : \", weight_shyam,\"kg\")"
   ]
  }
 ],
 "metadata": {
  "kernelspec": {
   "display_name": "Python 3 (ipykernel)",
   "language": "python",
   "name": "python3"
  },
  "language_info": {
   "codemirror_mode": {
    "name": "ipython",
    "version": 3
   },
   "file_extension": ".py",
   "mimetype": "text/x-python",
   "name": "python",
   "nbconvert_exporter": "python",
   "pygments_lexer": "ipython3",
   "version": "3.9.7"
  }
 },
 "nbformat": 4,
 "nbformat_minor": 5
}
